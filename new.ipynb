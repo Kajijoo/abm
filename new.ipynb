{
 "cells": [
  {
   "cell_type": "code",
   "execution_count": 19,
   "id": "43767092",
   "metadata": {},
   "outputs": [
    {
     "data": {
      "image/png": "[encoded data removed]",
      "text/plain": [
       "<Figure size 670x200 with 4 Axes>"
      ]
     },
     "metadata": {},
     "output_type": "display_data"
    }
   ],
   "source": [
    "import matplotlib.pyplot as plt\n",
    "import matplotlib.cm as cm\n",
    "import matplotlib.patches as mpatches\n",
    "from model import LearningModel\n",
    "\n",
    "def plot_food_environments():\n",
    "    # Create four environments\n",
    "    envs = [\n",
    "        LearningModel(N=0, width=20, height=20, distribute_patches='random', theta=1.5),\n",
    "        LearningModel(N=0, width=20, height=20, distribute_patches='random', theta=3),\n",
    "        LearningModel(N=0, width=20, height=20, distribute_patches='gradient_l'),\n",
    "        LearningModel(N=0, width=20, height=20, distribute_patches='gradient_h'),\n",
    "    ]\n",
    "    titles = [r\"$\\theta=1.5$\", r\"$\\theta=3$\", \"Gradient L\", \"Gradient H\"]\n",
    "\n",
    "    fig, axes = plt.subplots(1, 4, figsize=(6.7, 2))  # JASSS single-column width\n",
    "    cmap = cm.viridis\n",
    "    colors = [cmap(0/2), cmap(1/2), cmap(2/2)]  # discrete color samples\n",
    "\n",
    "    for ax, model, title in zip(axes, envs, titles):\n",
    "        data = model.grid.properties[\"patch_type\"].data\n",
    "        ax.imshow(data.T, cmap=cmap, vmin=0, vmax=2, origin=\"lower\")\n",
    "        ax.set_title(title, fontsize=12)\n",
    "        ax.set_xticks([])\n",
    "        ax.set_yticks([])\n",
    "        ax.set_aspect(\"equal\")\n",
    "        for spine in ax.spines.values():\n",
    "            spine.set_visible(False)\n",
    "\n",
    "    # Legend patches (shared)\n",
    "    legend_labels = [\"LL\", \"HL\", \"HH\"]\n",
    "    patches = [mpatches.Patch(color=c, label=l) for c, l in zip(colors, legend_labels)]\n",
    "    fig.legend(patches, legend_labels, loc=\"lower center\", ncol=3, fontsize=12, frameon=False)\n",
    "\n",
    "    plt.tight_layout(pad=0.2, rect=[0, 0.2, 1, 1])  # leave space for legend\n",
    "\n",
    "    plt.savefig(\"resub/food_environments.png\", dpi=600, bbox_inches='tight')\n",
    "    plt.savefig(\"resub/food_environments.pdf\", dpi=600, bbox_inches='tight')\n",
    "    plt.show()\n",
    "\n",
    "plot_food_environments()\n"
   ]
  }
 ],
 "metadata": {
  "kernelspec": {
   "display_name": ".venv (3.11.2)",
   "language": "python",
   "name": "python3"
  },
  "language_info": {
   "codemirror_mode": {
    "name": "ipython",
    "version": 3
   },
   "file_extension": ".py",
   "mimetype": "text/x-python",
   "name": "python",
   "nbconvert_exporter": "python",
   "pygments_lexer": "ipython3",
   "version": "3.11.2"
  }
 },
 "nbformat": 4,
 "nbformat_minor": 5
}
